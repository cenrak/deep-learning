{
 "cells": [
  {
   "cell_type": "markdown",
   "metadata": {
    "collapsed": true
   },
   "source": [
    "# Image Classification\n",
    "In this project, you'll classify images from the [CIFAR-10 dataset](https://www.cs.toronto.edu/~kriz/cifar.html).  The dataset consists of airplanes, dogs, cats, and other objects. You'll preprocess the images, then train a convolutional neural network on all the samples. The images need to be normalized and the labels need to be one-hot encoded.  You'll get to apply what you learned and build a convolutional, max pooling, dropout, and fully connected layers.  At the end, you'll get to see your neural network's predictions on the sample images.\n",
    "## Get the Data\n",
    "Run the following cell to download the [CIFAR-10 dataset for python](https://www.cs.toronto.edu/~kriz/cifar-10-python.tar.gz)."
   ]
  },
  {
   "cell_type": "code",
   "execution_count": 160,
   "metadata": {},
   "outputs": [
    {
     "name": "stdout",
     "output_type": "stream",
     "text": [
      "All files found!\n"
     ]
    }
   ],
   "source": [
    "\"\"\"\n",
    "DON'T MODIFY ANYTHING IN THIS CELL THAT IS BELOW THIS LINE\n",
    "\"\"\"\n",
    "from urllib.request import urlretrieve\n",
    "from os.path import isfile, isdir\n",
    "from tqdm import tqdm\n",
    "import problem_unittests as tests\n",
    "import tarfile\n",
    "\n",
    "cifar10_dataset_folder_path = 'cifar-10-batches-py'\n",
    "\n",
    "# Use Floyd's cifar-10 dataset if present\n",
    "floyd_cifar10_location = '/input/cifar-10/python.tar.gz'\n",
    "if isfile(floyd_cifar10_location):\n",
    "    tar_gz_path = floyd_cifar10_location\n",
    "else:\n",
    "    tar_gz_path = 'cifar-10-python.tar.gz'\n",
    "\n",
    "class DLProgress(tqdm):\n",
    "    last_block = 0\n",
    "\n",
    "    def hook(self, block_num=1, block_size=1, total_size=None):\n",
    "        self.total = total_size\n",
    "        self.update((block_num - self.last_block) * block_size)\n",
    "        self.last_block = block_num\n",
    "\n",
    "if not isfile(tar_gz_path):\n",
    "    with DLProgress(unit='B', unit_scale=True, miniters=1, desc='CIFAR-10 Dataset') as pbar:\n",
    "        urlretrieve(\n",
    "            'https://www.cs.toronto.edu/~kriz/cifar-10-python.tar.gz',\n",
    "            tar_gz_path,\n",
    "            pbar.hook)\n",
    "\n",
    "if not isdir(cifar10_dataset_folder_path):\n",
    "    with tarfile.open(tar_gz_path) as tar:\n",
    "        tar.extractall()\n",
    "        tar.close()\n",
    "\n",
    "\n",
    "tests.test_folder_path(cifar10_dataset_folder_path)"
   ]
  },
  {
   "cell_type": "markdown",
   "metadata": {},
   "source": [
    "## Explore the Data\n",
    "The dataset is broken into batches to prevent your machine from running out of memory.  The CIFAR-10 dataset consists of 5 batches, named `data_batch_1`, `data_batch_2`, etc.. Each batch contains the labels and images that are one of the following:\n",
    "* airplane\n",
    "* automobile\n",
    "* bird\n",
    "* cat\n",
    "* deer\n",
    "* dog\n",
    "* frog\n",
    "* horse\n",
    "* ship\n",
    "* truck\n",
    "\n",
    "Understanding a dataset is part of making predictions on the data.  Play around with the code cell below by changing the `batch_id` and `sample_id`. The `batch_id` is the id for a batch (1-5). The `sample_id` is the id for a image and label pair in the batch.\n",
    "\n",
    "Ask yourself \"What are all possible labels?\", \"What is the range of values for the image data?\", \"Are the labels in order or random?\".  Answers to questions like these will help you preprocess the data and end up with better predictions."
   ]
  },
  {
   "cell_type": "code",
   "execution_count": 161,
   "metadata": {},
   "outputs": [
    {
     "name": "stdout",
     "output_type": "stream",
     "text": [
      "\n",
      "Stats of batch 1:\n",
      "Samples: 10000\n",
      "Label Counts: {0: 1005, 1: 974, 2: 1032, 3: 1016, 4: 999, 5: 937, 6: 1030, 7: 1001, 8: 1025, 9: 981}\n",
      "First 20 Labels: [6, 9, 9, 4, 1, 1, 2, 7, 8, 3, 4, 7, 7, 2, 9, 9, 9, 3, 2, 6]\n",
      "\n",
      "Example of Image 60:\n",
      "Image - Min Value: 4 Max Value: 255\n",
      "Image - Shape: (32, 32, 3)\n",
      "Label - Label Id: 1 Name: automobile\n"
     ]
    },
    {
     "data": {
      "image/png": "[encoded data removed]",
      "text/plain": [
       "<matplotlib.figure.Figure at 0x7f8e1c067cf8>"
      ]
     },
     "metadata": {
      "image/png": {
       "height": 250,
       "width": 253
      }
     },
     "output_type": "display_data"
    }
   ],
   "source": [
    "%matplotlib inline\n",
    "%config InlineBackend.figure_format = 'retina'\n",
    "\n",
    "import helper\n",
    "import numpy as np\n",
    "\n",
    "# Explore the dataset\n",
    "batch_id = 1\n",
    "sample_id = 60\n",
    "helper.display_stats(cifar10_dataset_folder_path, batch_id, sample_id)"
   ]
  },
  {
   "cell_type": "markdown",
   "metadata": {},
   "source": [
    "## Implement Preprocess Functions\n",
    "### Normalize\n",
    "In the cell below, implement the `normalize` function to take in image data, `x`, and return it as a normalized Numpy array. The values should be in the range of 0 to 1, inclusive.  The return object should be the same shape as `x`."
   ]
  },
  {
   "cell_type": "code",
   "execution_count": 183,
   "metadata": {},
   "outputs": [
    {
     "name": "stdout",
     "output_type": "stream",
     "text": [
      "Tests Passed\n"
     ]
    }
   ],
   "source": [
    "def normalize(x):\n",
    "    \"\"\"\n",
    "    Normalize a list of sample image data in the range of 0 to 1\n",
    "    : x: List of image data.  The image shape is (32, 32, 3)\n",
    "    : return: Numpy array of normalize data\n",
    "    \"\"\"\n",
    "    # TODO: Implement Function\n",
    "    return x/255\n",
    "\n",
    "\n",
    "\"\"\"\n",
    "DON'T MODIFY ANYTHING IN THIS CELL THAT IS BELOW THIS LINE\n",
    "\"\"\"\n",
    "tests.test_normalize(normalize)"
   ]
  },
  {
   "cell_type": "markdown",
   "metadata": {},
   "source": [
    "### One-hot encode\n",
    "Just like the previous code cell, you'll be implementing a function for preprocessing.  This time, you'll implement the `one_hot_encode` function. The input, `x`, are a list of labels.  Implement the function to return the list of labels as One-Hot encoded Numpy array.  The possible values for labels are 0 to 9. The one-hot encoding function should return the same encoding for each value between each call to `one_hot_encode`.  Make sure to save the map of encodings outside the function.\n",
    "\n",
    "Hint: Don't reinvent the wheel."
   ]
  },
  {
   "cell_type": "code",
   "execution_count": 184,
   "metadata": {},
   "outputs": [
    {
     "name": "stdout",
     "output_type": "stream",
     "text": [
      "Tests Passed\n"
     ]
    }
   ],
   "source": [
    "def one_hot_encode(x):\n",
    "    \"\"\"\n",
    "    One hot encode a list of sample labels. Return a one-hot encoded vector for each label.\n",
    "    : x: List of sample Labels\n",
    "    : return: Numpy array of one-hot encoded labels\n",
    "    \"\"\"\n",
    "    # TODO: Implement Function\n",
    "    return np.eye(10)[x]\n",
    "\n",
    "\n",
    "\"\"\"\n",
    "DON'T MODIFY ANYTHING IN THIS CELL THAT IS BELOW THIS LINE\n",
    "\"\"\"\n",
    "tests.test_one_hot_encode(one_hot_encode)"
   ]
  },
  {
   "cell_type": "markdown",
   "metadata": {},
   "source": [
    "### Randomize Data\n",
    "As you saw from exploring the data above, the order of the samples are randomized.  It doesn't hurt to randomize it again, but you don't need to for this dataset."
   ]
  },
  {
   "cell_type": "markdown",
   "metadata": {},
   "source": [
    "## Preprocess all the data and save it\n",
    "Running the code cell below will preprocess all the CIFAR-10 data and save it to file. The code below also uses 10% of the training data for validation."
   ]
  },
  {
   "cell_type": "code",
   "execution_count": 185,
   "metadata": {
    "collapsed": true
   },
   "outputs": [],
   "source": [
    "\"\"\"\n",
    "DON'T MODIFY ANYTHING IN THIS CELL\n",
    "\"\"\"\n",
    "# Preprocess Training, Validation, and Testing Data\n",
    "helper.preprocess_and_save_data(cifar10_dataset_folder_path, normalize, one_hot_encode)"
   ]
  },
  {
   "cell_type": "markdown",
   "metadata": {},
   "source": [
    "# Check Point\n",
    "This is your first checkpoint.  If you ever decide to come back to this notebook or have to restart the notebook, you can start from here.  The preprocessed data has been saved to disk."
   ]
  },
  {
   "cell_type": "code",
   "execution_count": 273,
   "metadata": {
    "collapsed": true
   },
   "outputs": [],
   "source": [
    "\"\"\"\n",
    "DON'T MODIFY ANYTHING IN THIS CELL\n",
    "\"\"\"\n",
    "import pickle\n",
    "import problem_unittests as tests\n",
    "import helper\n",
    "\n",
    "# Load the Preprocessed Validation data\n",
    "valid_features, valid_labels = pickle.load(open('preprocess_validation.p', mode='rb'))"
   ]
  },
  {
   "cell_type": "markdown",
   "metadata": {},
   "source": [
    "## Build the network\n",
    "For the neural network, you'll build each layer into a function.  Most of the code you've seen has been outside of functions. To test your code more thoroughly, we require that you put each layer in a function.  This allows us to give you better feedback and test for simple mistakes using our unittests before you submit your project.\n",
    "\n",
    ">**Note:** If you're finding it hard to dedicate enough time for this course each week, we've provided a small shortcut to this part of the project. In the next couple of problems, you'll have the option to use classes from the [TensorFlow Layers](https://www.tensorflow.org/api_docs/python/tf/layers) or [TensorFlow Layers (contrib)](https://www.tensorflow.org/api_guides/python/contrib.layers) packages to build each layer, except the layers you build in the \"Convolutional and Max Pooling Layer\" section.  TF Layers is similar to Keras's and TFLearn's abstraction to layers, so it's easy to pickup.\n",
    "\n",
    ">However, if you would like to get the most out of this course, try to solve all the problems _without_ using anything from the TF Layers packages. You **can** still use classes from other packages that happen to have the same name as ones you find in TF Layers! For example, instead of using the TF Layers version of the `conv2d` class, [tf.layers.conv2d](https://www.tensorflow.org/api_docs/python/tf/layers/conv2d), you would want to use the TF Neural Network version of `conv2d`, [tf.nn.conv2d](https://www.tensorflow.org/api_docs/python/tf/nn/conv2d). \n",
    "\n",
    "Let's begin!\n",
    "\n",
    "### Input\n",
    "The neural network needs to read the image data, one-hot encoded labels, and dropout keep probability. Implement the following functions\n",
    "* Implement `neural_net_image_input`\n",
    " * Return a [TF Placeholder](https://www.tensorflow.org/api_docs/python/tf/placeholder)\n",
    " * Set the shape using `image_shape` with batch size set to `None`.\n",
    " * Name the TensorFlow placeholder \"x\" using the TensorFlow `name` parameter in the [TF Placeholder](https://www.tensorflow.org/api_docs/python/tf/placeholder).\n",
    "* Implement `neural_net_label_input`\n",
    " * Return a [TF Placeholder](https://www.tensorflow.org/api_docs/python/tf/placeholder)\n",
    " * Set the shape using `n_classes` with batch size set to `None`.\n",
    " * Name the TensorFlow placeholder \"y\" using the TensorFlow `name` parameter in the [TF Placeholder](https://www.tensorflow.org/api_docs/python/tf/placeholder).\n",
    "* Implement `neural_net_keep_prob_input`\n",
    " * Return a [TF Placeholder](https://www.tensorflow.org/api_docs/python/tf/placeholder) for dropout keep probability.\n",
    " * Name the TensorFlow placeholder \"keep_prob\" using the TensorFlow `name` parameter in the [TF Placeholder](https://www.tensorflow.org/api_docs/python/tf/placeholder).\n",
    "\n",
    "These names will be used at the end of the project to load your saved model.\n",
    "\n",
    "Note: `None` for shapes in TensorFlow allow for a dynamic size."
   ]
  },
  {
   "cell_type": "code",
   "execution_count": 274,
   "metadata": {},
   "outputs": [
    {
     "name": "stdout",
     "output_type": "stream",
     "text": [
      "Image Input Tests Passed.\n",
      "Label Input Tests Passed.\n",
      "Keep Prob Tests Passed.\n"
     ]
    }
   ],
   "source": [
    "import tensorflow as tf\n",
    "\n",
    "def neural_net_image_input(image_shape):\n",
    "    \"\"\"\n",
    "    Return a Tensor for a batch of image input\n",
    "    : image_shape: Shape of the images\n",
    "    : return: Tensor for image input.\n",
    "    \"\"\"\n",
    "    # TODO: Implement Function\n",
    "    return tf.placeholder(tf.float32, (None,*image_shape), 'x')\n",
    "\n",
    "\n",
    "def neural_net_label_input(n_classes):\n",
    "    \"\"\"\n",
    "    Return a Tensor for a batch of label input\n",
    "    : n_classes: Number of classes\n",
    "    : return: Tensor for label input.\n",
    "    \"\"\"\n",
    "    # TODO: Implement Function\n",
    "    return tf.placeholder(tf.float32, (None,n_classes), 'y')\n",
    "\n",
    "\n",
    "def neural_net_keep_prob_input():\n",
    "    \"\"\"\n",
    "    Return a Tensor for keep probability\n",
    "    : return: Tensor for keep probability.\n",
    "    \"\"\"\n",
    "    # TODO: Implement Function\n",
    "    return tf.placeholder(tf.float32, name='keep_prob')\n",
    "\n",
    "\n",
    "\"\"\"\n",
    "DON'T MODIFY ANYTHING IN THIS CELL THAT IS BELOW THIS LINE\n",
    "\"\"\"\n",
    "tf.reset_default_graph()\n",
    "tests.test_nn_image_inputs(neural_net_image_input)\n",
    "tests.test_nn_label_inputs(neural_net_label_input)\n",
    "tests.test_nn_keep_prob_inputs(neural_net_keep_prob_input)"
   ]
  },
  {
   "cell_type": "markdown",
   "metadata": {},
   "source": [
    "### Convolution and Max Pooling Layer\n",
    "Convolution layers have a lot of success with images. For this code cell, you should implement the function `conv2d_maxpool` to apply convolution then max pooling:\n",
    "* Create the weight and bias using `conv_ksize`, `conv_num_outputs` and the shape of `x_tensor`.\n",
    "* Apply a convolution to `x_tensor` using weight and `conv_strides`.\n",
    " * We recommend you use same padding, but you're welcome to use any padding.\n",
    "* Add bias\n",
    "* Add a nonlinear activation to the convolution.\n",
    "* Apply Max Pooling using `pool_ksize` and `pool_strides`.\n",
    " * We recommend you use same padding, but you're welcome to use any padding.\n",
    "\n",
    "**Note:** You **can't** use [TensorFlow Layers](https://www.tensorflow.org/api_docs/python/tf/layers) or [TensorFlow Layers (contrib)](https://www.tensorflow.org/api_guides/python/contrib.layers) for **this** layer, but you can still use TensorFlow's [Neural Network](https://www.tensorflow.org/api_docs/python/tf/nn) package. You may still use the shortcut option for all the **other** layers."
   ]
  },
  {
   "cell_type": "code",
   "execution_count": 275,
   "metadata": {},
   "outputs": [
    {
     "name": "stdout",
     "output_type": "stream",
     "text": [
      "Tests Passed\n"
     ]
    }
   ],
   "source": [
    "def conv2d_maxpool(x_tensor, conv_num_outputs, conv_ksize, conv_strides, pool_ksize, pool_strides):\n",
    "    \"\"\"\n",
    "    Apply convolution then max pooling to x_tensor\n",
    "    :param x_tensor: TensorFlow Tensor\n",
    "    :param conv_num_outputs: Number of outputs for the convolutional layer\n",
    "    :param conv_ksize: kernal size 2-D Tuple for the convolutional layer\n",
    "    :param conv_strides: Stride 2-D Tuple for convolution\n",
    "    :param pool_ksize: kernal size 2-D Tuple for pool\n",
    "    :param pool_strides: Stride 2-D Tuple for pool\n",
    "    : return: A tensor that represents convolution and max pooling of x_tensor\n",
    "    \"\"\"\n",
    "    # TODO: Implement Function\n",
    "    # Weights and Bias\n",
    "    shape = x_tensor.get_shape().as_list()\n",
    "    weights = tf.Variable(tf.truncated_normal([*conv_ksize, shape[3], conv_num_outputs], mean=0.0, stddev = 0.1))\n",
    "    bias = tf.Variable(tf.zeros(conv_num_outputs))\n",
    "    \n",
    "    # Conv Layer, Bias, and activation\n",
    "    strides = [1, *conv_strides, 1]\n",
    "    conv_layer = tf.nn.conv2d(x_tensor, weights, strides, padding='SAME')\n",
    "    conv_layer = tf.nn.bias_add(conv_layer, bias)\n",
    "    conv_layer = tf.nn.relu(conv_layer)\n",
    "    \n",
    "    # Pool\n",
    "    pksize = [1, *pool_ksize, 1]\n",
    "    pstride = [1, *pool_strides, 1]\n",
    "    return tf.nn.max_pool(conv_layer, pksize, pstride, padding='SAME')\n",
    "    \n",
    "\n",
    "\"\"\"\n",
    "DON'T MODIFY ANYTHING IN THIS CELL THAT IS BELOW THIS LINE\n",
    "\"\"\"\n",
    "tests.test_con_pool(conv2d_maxpool)"
   ]
  },
  {
   "cell_type": "markdown",
   "metadata": {},
   "source": [
    "### Flatten Layer\n",
    "Implement the `flatten` function to change the dimension of `x_tensor` from a 4-D tensor to a 2-D tensor.  The output should be the shape (*Batch Size*, *Flattened Image Size*). Shortcut option: you can use classes from the [TensorFlow Layers](https://www.tensorflow.org/api_docs/python/tf/layers) or [TensorFlow Layers (contrib)](https://www.tensorflow.org/api_guides/python/contrib.layers) packages for this layer. For more of a challenge, only use other TensorFlow packages."
   ]
  },
  {
   "cell_type": "code",
   "execution_count": 276,
   "metadata": {},
   "outputs": [
    {
     "name": "stdout",
     "output_type": "stream",
     "text": [
      "Tests Passed\n"
     ]
    }
   ],
   "source": [
    "def flatten(x_tensor):\n",
    "    \"\"\"\n",
    "    Flatten x_tensor to (Batch Size, Flattened Image Size)\n",
    "    : x_tensor: A tensor of size (Batch Size, ...), where ... are the image dimensions.\n",
    "    : return: A tensor of size (Batch Size, Flattened Image Size).\n",
    "    \"\"\"\n",
    "    # TODO: Implement Function\n",
    "    return tf.contrib.layers.flatten(x_tensor)\n",
    "\n",
    "\n",
    "\"\"\"\n",
    "DON'T MODIFY ANYTHING IN THIS CELL THAT IS BELOW THIS LINE\n",
    "\"\"\"\n",
    "tests.test_flatten(flatten)"
   ]
  },
  {
   "cell_type": "markdown",
   "metadata": {},
   "source": [
    "### Fully-Connected Layer\n",
    "Implement the `fully_conn` function to apply a fully connected layer to `x_tensor` with the shape (*Batch Size*, *num_outputs*). Shortcut option: you can use classes from the [TensorFlow Layers](https://www.tensorflow.org/api_docs/python/tf/layers) or [TensorFlow Layers (contrib)](https://www.tensorflow.org/api_guides/python/contrib.layers) packages for this layer. For more of a challenge, only use other TensorFlow packages."
   ]
  },
  {
   "cell_type": "code",
   "execution_count": 277,
   "metadata": {},
   "outputs": [
    {
     "name": "stdout",
     "output_type": "stream",
     "text": [
      "Tests Passed\n"
     ]
    }
   ],
   "source": [
    "def fully_conn(x_tensor, num_outputs):\n",
    "    \"\"\"\n",
    "    Apply a fully connected layer to x_tensor using weight and bias\n",
    "    : x_tensor: A 2-D tensor where the first dimension is batch size.\n",
    "    : num_outputs: The number of output that the new tensor should be.\n",
    "    : return: A 2-D tensor where the second dimension is num_outputs.\n",
    "    \"\"\"\n",
    "    # TODO: Implement Function\n",
    "    shape = x_tensor.get_shape().as_list()\n",
    "    weights = tf.Variable(tf.truncated_normal([shape[1], num_outputs], stddev=0.01))\n",
    "    bias = tf.Variable(tf.zeros(num_outputs))\n",
    "    layer = tf.add(tf.matmul(x_tensor, weights), bias)\n",
    "    return tf.nn.relu(layer)\n",
    "\n",
    "\n",
    "\"\"\"\n",
    "DON'T MODIFY ANYTHING IN THIS CELL THAT IS BELOW THIS LINE\n",
    "\"\"\"\n",
    "tests.test_fully_conn(fully_conn)"
   ]
  },
  {
   "cell_type": "markdown",
   "metadata": {},
   "source": [
    "### Output Layer\n",
    "Implement the `output` function to apply a fully connected layer to `x_tensor` with the shape (*Batch Size*, *num_outputs*). Shortcut option: you can use classes from the [TensorFlow Layers](https://www.tensorflow.org/api_docs/python/tf/layers) or [TensorFlow Layers (contrib)](https://www.tensorflow.org/api_guides/python/contrib.layers) packages for this layer. For more of a challenge, only use other TensorFlow packages.\n",
    "\n",
    "**Note:** Activation, softmax, or cross entropy should **not** be applied to this."
   ]
  },
  {
   "cell_type": "code",
   "execution_count": 278,
   "metadata": {},
   "outputs": [
    {
     "name": "stdout",
     "output_type": "stream",
     "text": [
      "Tests Passed\n"
     ]
    }
   ],
   "source": [
    "def output(x_tensor, num_outputs):\n",
    "    \"\"\"\n",
    "    Apply a output layer to x_tensor using weight and bias\n",
    "    : x_tensor: A 2-D tensor where the first dimension is batch size.\n",
    "    : num_outputs: The number of output that the new tensor should be.\n",
    "    : return: A 2-D tensor where the second dimension is num_outputs.\n",
    "    \"\"\"\n",
    "    # TODO: Implement Function\n",
    "    shape = x_tensor.get_shape().as_list()\n",
    "    weights = tf.Variable(tf.truncated_normal([shape[1], num_outputs]))\n",
    "    bias = tf.Variable(tf.zeros(num_outputs))\n",
    "    \n",
    "    return tf.add(tf.matmul(x_tensor, weights), bias)\n",
    "\n",
    "\n",
    "\"\"\"\n",
    "DON'T MODIFY ANYTHING IN THIS CELL THAT IS BELOW THIS LINE\n",
    "\"\"\"\n",
    "tests.test_output(output)"
   ]
  },
  {
   "cell_type": "markdown",
   "metadata": {},
   "source": [
    "### Create Convolutional Model\n",
    "Implement the function `conv_net` to create a convolutional neural network model. The function takes in a batch of images, `x`, and outputs logits.  Use the layers you created above to create this model:\n",
    "\n",
    "* Apply 1, 2, or 3 Convolution and Max Pool layers\n",
    "* Apply a Flatten Layer\n",
    "* Apply 1, 2, or 3 Fully Connected Layers\n",
    "* Apply an Output Layer\n",
    "* Return the output\n",
    "* Apply [TensorFlow's Dropout](https://www.tensorflow.org/api_docs/python/tf/nn/dropout) to one or more layers in the model using `keep_prob`. "
   ]
  },
  {
   "cell_type": "code",
   "execution_count": 279,
   "metadata": {},
   "outputs": [
    {
     "name": "stdout",
     "output_type": "stream",
     "text": [
      "Neural Network Built!\n"
     ]
    }
   ],
   "source": [
    "def conv_net(x, keep_prob):\n",
    "    \"\"\"\n",
    "    Create a convolutional neural network model\n",
    "    : x: Placeholder tensor that holds image data.\n",
    "    : keep_prob: Placeholder tensor that hold dropout keep probability.\n",
    "    : return: Tensor that represents logits\n",
    "    \"\"\"\n",
    "    # TODO: Apply 1, 2, or 3 Convolution and Max Pool layers\n",
    "    #    Play around with different number of outputs, kernel size and stride\n",
    "    # Function Definition from Above:\n",
    "    #    conv2d_maxpool(x_tensor, conv_num_outputs, conv_ksize, conv_strides, pool_ksize, pool_strides)\n",
    "\n",
    "    conv_layer = conv2d_maxpool(x, 64, [5,5], [1,1], [3,3], [2,2])\n",
    "    conv_layer = conv2d_maxpool(conv_layer, 32, [5,5], [1,1], [3,3], [2,2])\n",
    "\n",
    "    conv_layer = tf.nn.dropout(conv_layer, keep_prob\n",
    "                              )\n",
    "    # TODO: Apply a Flatten Layer\n",
    "    # Function Definition from Above:\n",
    "    #   flatten(x_tensor)\n",
    "    conv_layer = flatten(conv_layer)\n",
    "\n",
    "    # TODO: Apply 1, 2, or 3 Fully Connected Layers\n",
    "    #    Play around with different number of outputs\n",
    "    # Function Definition from Above:\n",
    "    #   fully_conn(x_tensor, num_outputs)\n",
    "    conv_layer = fully_conn(conv_layer, 512)\n",
    "    conv_layer = fully_conn(conv_layer, 254)\n",
    "\n",
    "    conv_layer = tf.nn.dropout(conv_layer, keep_prob)\n",
    "    \n",
    "    # TODO: Apply an Output Layer\n",
    "    #    Set this to the number of classes\n",
    "    # Function Definition from Above:\n",
    "    #   output(x_tensor, num_outputs)\n",
    "    conv_layer = fully_conn(conv_layer, 10)\n",
    "    \n",
    "    # TODO: return output\n",
    "    return conv_layer\n",
    "\n",
    "\n",
    "\"\"\"\n",
    "DON'T MODIFY ANYTHING IN THIS CELL THAT IS BELOW THIS LINE\n",
    "\"\"\"\n",
    "\n",
    "##############################\n",
    "## Build the Neural Network ##\n",
    "##############################\n",
    "\n",
    "# Remove previous weights, bias, inputs, etc..\n",
    "tf.reset_default_graph()\n",
    "\n",
    "# Inputs\n",
    "x = neural_net_image_input((32, 32, 3))\n",
    "y = neural_net_label_input(10)\n",
    "keep_prob = neural_net_keep_prob_input()\n",
    "\n",
    "# Model\n",
    "logits = conv_net(x, keep_prob)\n",
    "\n",
    "# Name logits Tensor, so that is can be loaded from disk after training\n",
    "logits = tf.identity(logits, name='logits')\n",
    "\n",
    "# Loss and Optimizer\n",
    "cost = tf.reduce_mean(tf.nn.softmax_cross_entropy_with_logits(logits=logits, labels=y))\n",
    "optimizer = tf.train.AdamOptimizer().minimize(cost)\n",
    "\n",
    "# Accuracy\n",
    "correct_pred = tf.equal(tf.argmax(logits, 1), tf.argmax(y, 1))\n",
    "accuracy = tf.reduce_mean(tf.cast(correct_pred, tf.float32), name='accuracy')\n",
    "\n",
    "tests.test_conv_net(conv_net)"
   ]
  },
  {
   "cell_type": "markdown",
   "metadata": {},
   "source": [
    "## Train the Neural Network\n",
    "### Single Optimization\n",
    "Implement the function `train_neural_network` to do a single optimization.  The optimization should use `optimizer` to optimize in `session` with a `feed_dict` of the following:\n",
    "* `x` for image input\n",
    "* `y` for labels\n",
    "* `keep_prob` for keep probability for dropout\n",
    "\n",
    "This function will be called for each batch, so `tf.global_variables_initializer()` has already been called.\n",
    "\n",
    "Note: Nothing needs to be returned. This function is only optimizing the neural network."
   ]
  },
  {
   "cell_type": "code",
   "execution_count": 280,
   "metadata": {},
   "outputs": [
    {
     "name": "stdout",
     "output_type": "stream",
     "text": [
      "Tests Passed\n"
     ]
    }
   ],
   "source": [
    "def train_neural_network(session, optimizer, keep_probability, feature_batch, label_batch):\n",
    "    \"\"\"\n",
    "    Optimize the session on a batch of images and labels\n",
    "    : session: Current TensorFlow session\n",
    "    : optimizer: TensorFlow optimizer function\n",
    "    : keep_probability: keep probability\n",
    "    : feature_batch: Batch of Numpy image data\n",
    "    : label_batch: Batch of Numpy label data\n",
    "    \"\"\"\n",
    "    # TODO: Implement Function\n",
    "    session.run(optimizer, feed_dict={ x: feature_batch, y: label_batch, keep_prob: keep_probability})\n",
    "\n",
    "\n",
    "\"\"\"\n",
    "DON'T MODIFY ANYTHING IN THIS CELL THAT IS BELOW THIS LINE\n",
    "\"\"\"\n",
    "tests.test_train_nn(train_neural_network)"
   ]
  },
  {
   "cell_type": "markdown",
   "metadata": {},
   "source": [
    "### Show Stats\n",
    "Implement the function `print_stats` to print loss and validation accuracy.  Use the global variables `valid_features` and `valid_labels` to calculate validation accuracy.  Use a keep probability of `1.0` to calculate the loss and validation accuracy."
   ]
  },
  {
   "cell_type": "code",
   "execution_count": 281,
   "metadata": {},
   "outputs": [],
   "source": [
    "def print_stats(session, feature_batch, label_batch, cost, accuracy):\n",
    "    \"\"\"\n",
    "    Print information about loss and validation accuracy\n",
    "    : session: Current TensorFlow session\n",
    "    : feature_batch: Batch of Numpy image data\n",
    "    : label_batch: Batch of Numpy label data\n",
    "    : cost: TensorFlow cost function\n",
    "    : accuracy: TensorFlow accuracy function\n",
    "    \"\"\"\n",
    "    # TODO: Implement Function\n",
    "    loss = session.run(cost, feed_dict={x:feature_batch, y:label_batch, keep_prob:1.0})\n",
    "    val_acc = sess.run(accuracy, feed_dict={x: valid_features,y: valid_labels,keep_prob: 1.0})\n",
    "    print('Loss: {} - Accuracy: {}'.format(loss, val_acc))"
   ]
  },
  {
   "cell_type": "markdown",
   "metadata": {},
   "source": [
    "### Hyperparameters\n",
    "Tune the following parameters:\n",
    "* Set `epochs` to the number of iterations until the network stops learning or start overfitting\n",
    "* Set `batch_size` to the highest number that your machine has memory for.  Most people set them to common sizes of memory:\n",
    " * 64\n",
    " * 128\n",
    " * 256\n",
    " * ...\n",
    "* Set `keep_probability` to the probability of keeping a node using dropout"
   ]
  },
  {
   "cell_type": "code",
   "execution_count": 284,
   "metadata": {
    "collapsed": true
   },
   "outputs": [],
   "source": [
    "# TODO: Tune Parameters\n",
    "epochs = 50\n",
    "batch_size = 256\n",
    "keep_probability = 0.2"
   ]
  },
  {
   "cell_type": "markdown",
   "metadata": {},
   "source": [
    "### Train on a Single CIFAR-10 Batch\n",
    "Instead of training the neural network on all the CIFAR-10 batches of data, let's use a single batch. This should save time while you iterate on the model to get a better accuracy.  Once the final validation accuracy is 50% or greater, run the model on all the data in the next section."
   ]
  },
  {
   "cell_type": "code",
   "execution_count": 285,
   "metadata": {},
   "outputs": [
    {
     "name": "stdout",
     "output_type": "stream",
     "text": [
      "Checking the Training on a Single Batch...\n",
      "Epoch  1, CIFAR-10 Batch 1:  Loss: 2.2767858505249023 - Accuracy: 0.1589999943971634\n",
      "Epoch  2, CIFAR-10 Batch 1:  Loss: 2.1825127601623535 - Accuracy: 0.2078000009059906\n",
      "Epoch  3, CIFAR-10 Batch 1:  Loss: 2.1236677169799805 - Accuracy: 0.2401999980211258\n",
      "Epoch  4, CIFAR-10 Batch 1:  Loss: 2.0727338790893555 - Accuracy: 0.24619998037815094\n",
      "Epoch  5, CIFAR-10 Batch 1:  Loss: 1.9436240196228027 - Accuracy: 0.31679999828338623\n",
      "Epoch  6, CIFAR-10 Batch 1:  Loss: 1.9197795391082764 - Accuracy: 0.32639995217323303\n",
      "Epoch  7, CIFAR-10 Batch 1:  Loss: 1.8201653957366943 - Accuracy: 0.38739997148513794\n",
      "Epoch  8, CIFAR-10 Batch 1:  Loss: 1.7643311023712158 - Accuracy: 0.3933999836444855\n",
      "Epoch  9, CIFAR-10 Batch 1:  Loss: 1.6967777013778687 - Accuracy: 0.3755999803543091\n",
      "Epoch 10, CIFAR-10 Batch 1:  Loss: 1.6976304054260254 - Accuracy: 0.36719995737075806\n",
      "Epoch 11, CIFAR-10 Batch 1:  Loss: 1.6213136911392212 - Accuracy: 0.4047999680042267\n",
      "Epoch 12, CIFAR-10 Batch 1:  Loss: 1.5923970937728882 - Accuracy: 0.40859997272491455\n",
      "Epoch 13, CIFAR-10 Batch 1:  Loss: 1.5647332668304443 - Accuracy: 0.4073999524116516\n",
      "Epoch 14, CIFAR-10 Batch 1:  Loss: 1.4076323509216309 - Accuracy: 0.4241999387741089\n",
      "Epoch 15, CIFAR-10 Batch 1:  Loss: 1.3624517917633057 - Accuracy: 0.44519999623298645\n",
      "Epoch 16, CIFAR-10 Batch 1:  Loss: 1.342480182647705 - Accuracy: 0.45299994945526123\n",
      "Epoch 17, CIFAR-10 Batch 1:  Loss: 1.337621808052063 - Accuracy: 0.4511999487876892\n",
      "Epoch 18, CIFAR-10 Batch 1:  Loss: 1.281290888786316 - Accuracy: 0.465599924325943\n",
      "Epoch 19, CIFAR-10 Batch 1:  Loss: 1.2277361154556274 - Accuracy: 0.45799997448921204\n",
      "Epoch 20, CIFAR-10 Batch 1:  Loss: 1.1967120170593262 - Accuracy: 0.476999968290329\n",
      "Epoch 21, CIFAR-10 Batch 1:  Loss: 1.2479515075683594 - Accuracy: 0.473999947309494\n",
      "Epoch 22, CIFAR-10 Batch 1:  Loss: 1.1760072708129883 - Accuracy: 0.4795999526977539\n",
      "Epoch 23, CIFAR-10 Batch 1:  Loss: 1.1287144422531128 - Accuracy: 0.4979999363422394\n",
      "Epoch 24, CIFAR-10 Batch 1:  Loss: 1.0593818426132202 - Accuracy: 0.5023999214172363\n",
      "Epoch 25, CIFAR-10 Batch 1:  Loss: 1.0745649337768555 - Accuracy: 0.49139994382858276\n",
      "Epoch 26, CIFAR-10 Batch 1:  Loss: 1.115055799484253 - Accuracy: 0.49039995670318604\n",
      "Epoch 27, CIFAR-10 Batch 1:  Loss: 1.0453269481658936 - Accuracy: 0.5025998950004578\n",
      "Epoch 28, CIFAR-10 Batch 1:  Loss: 0.9815096259117126 - Accuracy: 0.5127999782562256\n",
      "Epoch 29, CIFAR-10 Batch 1:  Loss: 0.873656153678894 - Accuracy: 0.5557999610900879\n",
      "Epoch 30, CIFAR-10 Batch 1:  Loss: 0.8565177321434021 - Accuracy: 0.5637999773025513\n",
      "Epoch 31, CIFAR-10 Batch 1:  Loss: 0.7755706310272217 - Accuracy: 0.5767999291419983\n",
      "Epoch 32, CIFAR-10 Batch 1:  Loss: 0.7472412586212158 - Accuracy: 0.5633999109268188\n",
      "Epoch 33, CIFAR-10 Batch 1:  Loss: 0.7262077927589417 - Accuracy: 0.5875998735427856\n",
      "Epoch 34, CIFAR-10 Batch 1:  Loss: 0.6282410025596619 - Accuracy: 0.5939999222755432\n",
      "Epoch 35, CIFAR-10 Batch 1:  Loss: 0.5936335325241089 - Accuracy: 0.6075998544692993\n",
      "Epoch 36, CIFAR-10 Batch 1:  Loss: 0.5675152540206909 - Accuracy: 0.6071999073028564\n",
      "Epoch 37, CIFAR-10 Batch 1:  Loss: 0.5180463194847107 - Accuracy: 0.6011998653411865\n",
      "Epoch 38, CIFAR-10 Batch 1:  Loss: 0.48454803228378296 - Accuracy: 0.6211999654769897\n",
      "Epoch 39, CIFAR-10 Batch 1:  Loss: 0.5057848691940308 - Accuracy: 0.5961998701095581\n",
      "Epoch 40, CIFAR-10 Batch 1:  Loss: 0.44230780005455017 - Accuracy: 0.6167999505996704\n",
      "Epoch 41, CIFAR-10 Batch 1:  Loss: 0.41917240619659424 - Accuracy: 0.6159998774528503\n",
      "Epoch 42, CIFAR-10 Batch 1:  Loss: 0.4252086877822876 - Accuracy: 0.597599983215332\n",
      "Epoch 43, CIFAR-10 Batch 1:  Loss: 0.4566717743873596 - Accuracy: 0.6079999208450317\n",
      "Epoch 44, CIFAR-10 Batch 1:  Loss: 0.3849917948246002 - Accuracy: 0.6261999011039734\n",
      "Epoch 45, CIFAR-10 Batch 1:  Loss: 0.39757245779037476 - Accuracy: 0.6267999410629272\n",
      "Epoch 46, CIFAR-10 Batch 1:  Loss: 0.4078211486339569 - Accuracy: 0.615399956703186\n",
      "Epoch 47, CIFAR-10 Batch 1:  Loss: 0.40149936079978943 - Accuracy: 0.6065999269485474\n",
      "Epoch 48, CIFAR-10 Batch 1:  Loss: 0.32127904891967773 - Accuracy: 0.6417999267578125\n",
      "Epoch 49, CIFAR-10 Batch 1:  Loss: 0.3446400463581085 - Accuracy: 0.6401998400688171\n",
      "Epoch 50, CIFAR-10 Batch 1:  Loss: 0.29801374673843384 - Accuracy: 0.6333999633789062\n"
     ]
    }
   ],
   "source": [
    "\"\"\"\n",
    "DON'T MODIFY ANYTHING IN THIS CELL\n",
    "\"\"\"\n",
    "print('Checking the Training on a Single Batch...')\n",
    "with tf.Session() as sess:\n",
    "    # Initializing the variables\n",
    "    sess.run(tf.global_variables_initializer())\n",
    "    \n",
    "    # Training cycle\n",
    "    for epoch in range(epochs):\n",
    "        batch_i = 1\n",
    "        for batch_features, batch_labels in helper.load_preprocess_training_batch(batch_i, batch_size):\n",
    "            train_neural_network(sess, optimizer, keep_probability, batch_features, batch_labels)\n",
    "        print('Epoch {:>2}, CIFAR-10 Batch {}:  '.format(epoch + 1, batch_i), end='')\n",
    "        print_stats(sess, batch_features, batch_labels, cost, accuracy)"
   ]
  },
  {
   "cell_type": "markdown",
   "metadata": {},
   "source": [
    "### Fully Train the Model\n",
    "Now that you got a good accuracy with a single CIFAR-10 batch, try it with all five batches."
   ]
  },
  {
   "cell_type": "code",
   "execution_count": 286,
   "metadata": {},
   "outputs": [
    {
     "name": "stdout",
     "output_type": "stream",
     "text": [
      "Training...\n",
      "Epoch  1, CIFAR-10 Batch 1:  Loss: 2.2336344718933105 - Accuracy: 0.19919998943805695\n",
      "Epoch  1, CIFAR-10 Batch 2:  Loss: 2.0706048011779785 - Accuracy: 0.2595999836921692\n",
      "Epoch  1, CIFAR-10 Batch 3:  Loss: 1.8777801990509033 - Accuracy: 0.3310000002384186\n",
      "Epoch  1, CIFAR-10 Batch 4:  Loss: 1.899118423461914 - Accuracy: 0.35500001907348633\n",
      "Epoch  1, CIFAR-10 Batch 5:  Loss: 1.6720796823501587 - Accuracy: 0.3741999864578247\n",
      "Epoch  2, CIFAR-10 Batch 1:  Loss: 1.8479434251785278 - Accuracy: 0.3593999445438385\n",
      "Epoch  2, CIFAR-10 Batch 2:  Loss: 1.6953641176223755 - Accuracy: 0.4339999556541443\n",
      "Epoch  2, CIFAR-10 Batch 3:  Loss: 1.3043303489685059 - Accuracy: 0.45319998264312744\n",
      "Epoch  2, CIFAR-10 Batch 4:  Loss: 1.5942221879959106 - Accuracy: 0.4567999541759491\n",
      "Epoch  2, CIFAR-10 Batch 5:  Loss: 1.4945416450500488 - Accuracy: 0.464199960231781\n",
      "Epoch  3, CIFAR-10 Batch 1:  Loss: 1.571781873703003 - Accuracy: 0.48399996757507324\n",
      "Epoch  3, CIFAR-10 Batch 2:  Loss: 1.4944788217544556 - Accuracy: 0.4923999309539795\n",
      "Epoch  3, CIFAR-10 Batch 3:  Loss: 1.2093017101287842 - Accuracy: 0.5049999952316284\n",
      "Epoch  3, CIFAR-10 Batch 4:  Loss: 1.3449702262878418 - Accuracy: 0.5133999586105347\n",
      "Epoch  3, CIFAR-10 Batch 5:  Loss: 1.3145121335983276 - Accuracy: 0.5241999626159668\n",
      "Epoch  4, CIFAR-10 Batch 1:  Loss: 1.4012051820755005 - Accuracy: 0.5159999132156372\n",
      "Epoch  4, CIFAR-10 Batch 2:  Loss: 1.398911476135254 - Accuracy: 0.5241999626159668\n",
      "Epoch  4, CIFAR-10 Batch 3:  Loss: 1.1132678985595703 - Accuracy: 0.5247999429702759\n",
      "Epoch  4, CIFAR-10 Batch 4:  Loss: 1.2381224632263184 - Accuracy: 0.5351999402046204\n",
      "Epoch  4, CIFAR-10 Batch 5:  Loss: 1.201676607131958 - Accuracy: 0.5513999462127686\n",
      "Epoch  5, CIFAR-10 Batch 1:  Loss: 1.1792505979537964 - Accuracy: 0.5543999671936035\n",
      "Epoch  5, CIFAR-10 Batch 2:  Loss: 1.198777437210083 - Accuracy: 0.5431999564170837\n",
      "Epoch  5, CIFAR-10 Batch 3:  Loss: 1.0237505435943604 - Accuracy: 0.5613999366760254\n",
      "Epoch  5, CIFAR-10 Batch 4:  Loss: 1.1325135231018066 - Accuracy: 0.5475999712944031\n",
      "Epoch  5, CIFAR-10 Batch 5:  Loss: 1.1434721946716309 - Accuracy: 0.5797999501228333\n",
      "Epoch  6, CIFAR-10 Batch 1:  Loss: 1.1299934387207031 - Accuracy: 0.5807998776435852\n",
      "Epoch  6, CIFAR-10 Batch 2:  Loss: 1.13746178150177 - Accuracy: 0.5813999176025391\n",
      "Epoch  6, CIFAR-10 Batch 3:  Loss: 1.0306657552719116 - Accuracy: 0.5563998818397522\n",
      "Epoch  6, CIFAR-10 Batch 4:  Loss: 1.0415751934051514 - Accuracy: 0.593799889087677\n",
      "Epoch  6, CIFAR-10 Batch 5:  Loss: 1.0722297430038452 - Accuracy: 0.5817998647689819\n",
      "Epoch  7, CIFAR-10 Batch 1:  Loss: 1.020049810409546 - Accuracy: 0.5715999603271484\n",
      "Epoch  7, CIFAR-10 Batch 2:  Loss: 1.0964772701263428 - Accuracy: 0.5783999562263489\n",
      "Epoch  7, CIFAR-10 Batch 3:  Loss: 0.9148233532905579 - Accuracy: 0.596799910068512\n",
      "Epoch  7, CIFAR-10 Batch 4:  Loss: 0.9842544794082642 - Accuracy: 0.595599889755249\n",
      "Epoch  7, CIFAR-10 Batch 5:  Loss: 0.9816657304763794 - Accuracy: 0.6035999059677124\n",
      "Epoch  8, CIFAR-10 Batch 1:  Loss: 0.9447057247161865 - Accuracy: 0.6013998985290527\n",
      "Epoch  8, CIFAR-10 Batch 2:  Loss: 1.1001529693603516 - Accuracy: 0.5979999899864197\n",
      "Epoch  8, CIFAR-10 Batch 3:  Loss: 0.8278000354766846 - Accuracy: 0.6163999438285828\n",
      "Epoch  8, CIFAR-10 Batch 4:  Loss: 0.929943323135376 - Accuracy: 0.6223998665809631\n",
      "Epoch  8, CIFAR-10 Batch 5:  Loss: 0.9151450395584106 - Accuracy: 0.6299998760223389\n",
      "Epoch  9, CIFAR-10 Batch 1:  Loss: 0.865105926990509 - Accuracy: 0.6075998544692993\n",
      "Epoch  9, CIFAR-10 Batch 2:  Loss: 0.9986805319786072 - Accuracy: 0.6271998882293701\n",
      "Epoch  9, CIFAR-10 Batch 3:  Loss: 0.8157556653022766 - Accuracy: 0.6329998970031738\n",
      "Epoch  9, CIFAR-10 Batch 4:  Loss: 0.8540325164794922 - Accuracy: 0.6347999572753906\n",
      "Epoch  9, CIFAR-10 Batch 5:  Loss: 0.8544043898582458 - Accuracy: 0.6273999214172363\n",
      "Epoch 10, CIFAR-10 Batch 1:  Loss: 0.8593509197235107 - Accuracy: 0.6063998937606812\n",
      "Epoch 10, CIFAR-10 Batch 2:  Loss: 0.9074167013168335 - Accuracy: 0.6381998658180237\n",
      "Epoch 10, CIFAR-10 Batch 3:  Loss: 0.741642951965332 - Accuracy: 0.6253998875617981\n",
      "Epoch 10, CIFAR-10 Batch 4:  Loss: 0.8247624635696411 - Accuracy: 0.6249998807907104\n",
      "Epoch 10, CIFAR-10 Batch 5:  Loss: 0.7792410850524902 - Accuracy: 0.6541998982429504\n",
      "Epoch 11, CIFAR-10 Batch 1:  Loss: 0.858026385307312 - Accuracy: 0.643799901008606\n",
      "Epoch 11, CIFAR-10 Batch 2:  Loss: 0.9163403511047363 - Accuracy: 0.6525998711585999\n",
      "Epoch 11, CIFAR-10 Batch 3:  Loss: 0.7137547135353088 - Accuracy: 0.6469998955726624\n",
      "Epoch 11, CIFAR-10 Batch 4:  Loss: 0.7714964151382446 - Accuracy: 0.6457999348640442\n",
      "Epoch 11, CIFAR-10 Batch 5:  Loss: 0.7145087718963623 - Accuracy: 0.6589998602867126\n",
      "Epoch 12, CIFAR-10 Batch 1:  Loss: 0.8009539842605591 - Accuracy: 0.6533998847007751\n",
      "Epoch 12, CIFAR-10 Batch 2:  Loss: 0.9291319847106934 - Accuracy: 0.6641998887062073\n",
      "Epoch 12, CIFAR-10 Batch 3:  Loss: 0.7278826236724854 - Accuracy: 0.6571998596191406\n",
      "Epoch 12, CIFAR-10 Batch 4:  Loss: 0.7283792495727539 - Accuracy: 0.6681998372077942\n",
      "Epoch 12, CIFAR-10 Batch 5:  Loss: 0.6818392276763916 - Accuracy: 0.668799877166748\n",
      "Epoch 13, CIFAR-10 Batch 1:  Loss: 0.7831217050552368 - Accuracy: 0.6273999214172363\n",
      "Epoch 13, CIFAR-10 Batch 2:  Loss: 0.8670909404754639 - Accuracy: 0.6685999035835266\n",
      "Epoch 13, CIFAR-10 Batch 3:  Loss: 0.6277530193328857 - Accuracy: 0.6705998778343201\n",
      "Epoch 13, CIFAR-10 Batch 4:  Loss: 0.6562648415565491 - Accuracy: 0.6785998940467834\n",
      "Epoch 13, CIFAR-10 Batch 5:  Loss: 0.6884939074516296 - Accuracy: 0.6753998398780823\n",
      "Epoch 14, CIFAR-10 Batch 1:  Loss: 0.700485110282898 - Accuracy: 0.6495999097824097\n",
      "Epoch 14, CIFAR-10 Batch 2:  Loss: 0.7980342507362366 - Accuracy: 0.663399875164032\n",
      "Epoch 14, CIFAR-10 Batch 3:  Loss: 0.6095248460769653 - Accuracy: 0.6671998500823975\n",
      "Epoch 14, CIFAR-10 Batch 4:  Loss: 0.6932207345962524 - Accuracy: 0.6813998818397522\n",
      "Epoch 14, CIFAR-10 Batch 5:  Loss: 0.6565675735473633 - Accuracy: 0.6715999245643616\n",
      "Epoch 15, CIFAR-10 Batch 1:  Loss: 0.6556962728500366 - Accuracy: 0.6665998697280884\n",
      "Epoch 15, CIFAR-10 Batch 2:  Loss: 0.8136255145072937 - Accuracy: 0.6737998723983765\n",
      "Epoch 15, CIFAR-10 Batch 3:  Loss: 0.5387896299362183 - Accuracy: 0.6835998892784119\n",
      "Epoch 15, CIFAR-10 Batch 4:  Loss: 0.6078190207481384 - Accuracy: 0.6961998343467712\n",
      "Epoch 15, CIFAR-10 Batch 5:  Loss: 0.6250390410423279 - Accuracy: 0.6861999034881592\n",
      "Epoch 16, CIFAR-10 Batch 1:  Loss: 0.6169285774230957 - Accuracy: 0.6863999366760254\n",
      "Epoch 16, CIFAR-10 Batch 2:  Loss: 0.7567682266235352 - Accuracy: 0.6949998736381531\n",
      "Epoch 16, CIFAR-10 Batch 3:  Loss: 0.5586581826210022 - Accuracy: 0.6833997964859009\n",
      "Epoch 16, CIFAR-10 Batch 4:  Loss: 0.6506035923957825 - Accuracy: 0.6693999171257019\n",
      "Epoch 16, CIFAR-10 Batch 5:  Loss: 0.5964694619178772 - Accuracy: 0.6903998851776123\n",
      "Epoch 17, CIFAR-10 Batch 1:  Loss: 0.59916752576828 - Accuracy: 0.7017998099327087\n",
      "Epoch 17, CIFAR-10 Batch 2:  Loss: 0.6626238822937012 - Accuracy: 0.6883999109268188\n",
      "Epoch 17, CIFAR-10 Batch 3:  Loss: 0.5137442350387573 - Accuracy: 0.6819998621940613\n",
      "Epoch 17, CIFAR-10 Batch 4:  Loss: 0.5840425491333008 - Accuracy: 0.6957998275756836\n",
      "Epoch 17, CIFAR-10 Batch 5:  Loss: 0.5368484258651733 - Accuracy: 0.6999998688697815\n",
      "Epoch 18, CIFAR-10 Batch 1:  Loss: 0.5633314847946167 - Accuracy: 0.696199893951416\n",
      "Epoch 18, CIFAR-10 Batch 2:  Loss: 0.6073848009109497 - Accuracy: 0.7027998566627502\n",
      "Epoch 18, CIFAR-10 Batch 3:  Loss: 0.45136556029319763 - Accuracy: 0.7005998492240906\n",
      "Epoch 18, CIFAR-10 Batch 4:  Loss: 0.5694808959960938 - Accuracy: 0.6811999082565308\n",
      "Epoch 18, CIFAR-10 Batch 5:  Loss: 0.5482094883918762 - Accuracy: 0.7033998370170593\n",
      "Epoch 19, CIFAR-10 Batch 1:  Loss: 0.5868424773216248 - Accuracy: 0.7101998329162598\n",
      "Epoch 19, CIFAR-10 Batch 2:  Loss: 0.5847262144088745 - Accuracy: 0.695399820804596\n",
      "Epoch 19, CIFAR-10 Batch 3:  Loss: 0.42942556738853455 - Accuracy: 0.69159996509552\n",
      "Epoch 19, CIFAR-10 Batch 4:  Loss: 0.5200693607330322 - Accuracy: 0.7059999108314514\n",
      "Epoch 19, CIFAR-10 Batch 5:  Loss: 0.42170852422714233 - Accuracy: 0.705599844455719\n",
      "Epoch 20, CIFAR-10 Batch 1:  Loss: 0.5513249039649963 - Accuracy: 0.7077999114990234\n",
      "Epoch 20, CIFAR-10 Batch 2:  Loss: 0.5415232181549072 - Accuracy: 0.7043999433517456\n"
     ]
    },
    {
     "name": "stdout",
     "output_type": "stream",
     "text": [
      "Epoch 20, CIFAR-10 Batch 3:  Loss: 0.40186548233032227 - Accuracy: 0.7079998254776001\n",
      "Epoch 20, CIFAR-10 Batch 4:  Loss: 0.5218486785888672 - Accuracy: 0.7119998931884766\n",
      "Epoch 20, CIFAR-10 Batch 5:  Loss: 0.44084951281547546 - Accuracy: 0.7175998687744141\n",
      "Epoch 21, CIFAR-10 Batch 1:  Loss: 0.46580564975738525 - Accuracy: 0.697399914264679\n",
      "Epoch 21, CIFAR-10 Batch 2:  Loss: 0.5483433604240417 - Accuracy: 0.7019999027252197\n",
      "Epoch 21, CIFAR-10 Batch 3:  Loss: 0.42539602518081665 - Accuracy: 0.71319979429245\n",
      "Epoch 21, CIFAR-10 Batch 4:  Loss: 0.4871331751346588 - Accuracy: 0.7113998532295227\n",
      "Epoch 21, CIFAR-10 Batch 5:  Loss: 0.4401013255119324 - Accuracy: 0.7145998477935791\n",
      "Epoch 22, CIFAR-10 Batch 1:  Loss: 0.4625287353992462 - Accuracy: 0.7137998342514038\n",
      "Epoch 22, CIFAR-10 Batch 2:  Loss: 0.5496593117713928 - Accuracy: 0.7201998829841614\n",
      "Epoch 22, CIFAR-10 Batch 3:  Loss: 0.3715192675590515 - Accuracy: 0.7255998253822327\n",
      "Epoch 22, CIFAR-10 Batch 4:  Loss: 0.5105108618736267 - Accuracy: 0.6839998364448547\n",
      "Epoch 22, CIFAR-10 Batch 5:  Loss: 0.4188217520713806 - Accuracy: 0.7153998613357544\n",
      "Epoch 23, CIFAR-10 Batch 1:  Loss: 0.4862891137599945 - Accuracy: 0.7135999202728271\n",
      "Epoch 23, CIFAR-10 Batch 2:  Loss: 0.5304988622665405 - Accuracy: 0.7157998085021973\n",
      "Epoch 23, CIFAR-10 Batch 3:  Loss: 0.39948511123657227 - Accuracy: 0.7013998627662659\n",
      "Epoch 23, CIFAR-10 Batch 4:  Loss: 0.4767446517944336 - Accuracy: 0.6989998817443848\n",
      "Epoch 23, CIFAR-10 Batch 5:  Loss: 0.3889429569244385 - Accuracy: 0.7157999277114868\n",
      "Epoch 24, CIFAR-10 Batch 1:  Loss: 0.44769203662872314 - Accuracy: 0.7125998139381409\n",
      "Epoch 24, CIFAR-10 Batch 2:  Loss: 0.4847759008407593 - Accuracy: 0.7215998768806458\n",
      "Epoch 24, CIFAR-10 Batch 3:  Loss: 0.3739316463470459 - Accuracy: 0.6935998797416687\n",
      "Epoch 24, CIFAR-10 Batch 4:  Loss: 0.43723565340042114 - Accuracy: 0.7207998633384705\n",
      "Epoch 24, CIFAR-10 Batch 5:  Loss: 0.4301545023918152 - Accuracy: 0.7271998524665833\n",
      "Epoch 25, CIFAR-10 Batch 1:  Loss: 0.4682071805000305 - Accuracy: 0.7173998355865479\n",
      "Epoch 25, CIFAR-10 Batch 2:  Loss: 0.4519514739513397 - Accuracy: 0.7209999561309814\n",
      "Epoch 25, CIFAR-10 Batch 3:  Loss: 0.3301907181739807 - Accuracy: 0.7239998579025269\n",
      "Epoch 25, CIFAR-10 Batch 4:  Loss: 0.4029362201690674 - Accuracy: 0.7249999046325684\n",
      "Epoch 25, CIFAR-10 Batch 5:  Loss: 0.34894996881484985 - Accuracy: 0.7339998483657837\n",
      "Epoch 26, CIFAR-10 Batch 1:  Loss: 0.46293389797210693 - Accuracy: 0.7255998849868774\n",
      "Epoch 26, CIFAR-10 Batch 2:  Loss: 0.43096429109573364 - Accuracy: 0.7257998585700989\n",
      "Epoch 26, CIFAR-10 Batch 3:  Loss: 0.3273466229438782 - Accuracy: 0.7301998138427734\n",
      "Epoch 26, CIFAR-10 Batch 4:  Loss: 0.349343478679657 - Accuracy: 0.737799882888794\n",
      "Epoch 26, CIFAR-10 Batch 5:  Loss: 0.3301161527633667 - Accuracy: 0.7343998551368713\n",
      "Epoch 27, CIFAR-10 Batch 1:  Loss: 0.478375643491745 - Accuracy: 0.7067999243736267\n",
      "Epoch 27, CIFAR-10 Batch 2:  Loss: 0.4401203393936157 - Accuracy: 0.7301998734474182\n",
      "Epoch 27, CIFAR-10 Batch 3:  Loss: 0.34447813034057617 - Accuracy: 0.7319998145103455\n",
      "Epoch 27, CIFAR-10 Batch 4:  Loss: 0.38170069456100464 - Accuracy: 0.7341998219490051\n",
      "Epoch 27, CIFAR-10 Batch 5:  Loss: 0.3049412667751312 - Accuracy: 0.7399998903274536\n",
      "Epoch 28, CIFAR-10 Batch 1:  Loss: 0.44499456882476807 - Accuracy: 0.7205997705459595\n",
      "Epoch 28, CIFAR-10 Batch 2:  Loss: 0.37372392416000366 - Accuracy: 0.7309998273849487\n",
      "Epoch 28, CIFAR-10 Batch 3:  Loss: 0.33734798431396484 - Accuracy: 0.7349997758865356\n",
      "Epoch 28, CIFAR-10 Batch 4:  Loss: 0.3421550691127777 - Accuracy: 0.7295998930931091\n",
      "Epoch 28, CIFAR-10 Batch 5:  Loss: 0.29602181911468506 - Accuracy: 0.7313998341560364\n",
      "Epoch 29, CIFAR-10 Batch 1:  Loss: 0.4513500928878784 - Accuracy: 0.7291998267173767\n",
      "Epoch 29, CIFAR-10 Batch 2:  Loss: 0.3866816759109497 - Accuracy: 0.7447999119758606\n",
      "Epoch 29, CIFAR-10 Batch 3:  Loss: 0.3301052451133728 - Accuracy: 0.7149998545646667\n",
      "Epoch 29, CIFAR-10 Batch 4:  Loss: 0.34315362572669983 - Accuracy: 0.7321998476982117\n",
      "Epoch 29, CIFAR-10 Batch 5:  Loss: 0.31017494201660156 - Accuracy: 0.7451998591423035\n",
      "Epoch 30, CIFAR-10 Batch 1:  Loss: 0.41497528553009033 - Accuracy: 0.7353998422622681\n",
      "Epoch 30, CIFAR-10 Batch 2:  Loss: 0.37029463052749634 - Accuracy: 0.7351998090744019\n",
      "Epoch 30, CIFAR-10 Batch 3:  Loss: 0.28951793909072876 - Accuracy: 0.7229998707771301\n",
      "Epoch 30, CIFAR-10 Batch 4:  Loss: 0.311314195394516 - Accuracy: 0.7371998429298401\n",
      "Epoch 30, CIFAR-10 Batch 5:  Loss: 0.2847863733768463 - Accuracy: 0.7447998523712158\n",
      "Epoch 31, CIFAR-10 Batch 1:  Loss: 0.3885904550552368 - Accuracy: 0.719799816608429\n",
      "Epoch 31, CIFAR-10 Batch 2:  Loss: 0.3718647360801697 - Accuracy: 0.742999792098999\n",
      "Epoch 31, CIFAR-10 Batch 3:  Loss: 0.2743864059448242 - Accuracy: 0.7461998462677002\n",
      "Epoch 31, CIFAR-10 Batch 4:  Loss: 0.29148662090301514 - Accuracy: 0.7397998571395874\n",
      "Epoch 31, CIFAR-10 Batch 5:  Loss: 0.27008914947509766 - Accuracy: 0.742999792098999\n",
      "Epoch 32, CIFAR-10 Batch 1:  Loss: 0.37895509600639343 - Accuracy: 0.744399905204773\n",
      "Epoch 32, CIFAR-10 Batch 2:  Loss: 0.35703879594802856 - Accuracy: 0.7455998659133911\n",
      "Epoch 32, CIFAR-10 Batch 3:  Loss: 0.25984805822372437 - Accuracy: 0.7421998381614685\n",
      "Epoch 32, CIFAR-10 Batch 4:  Loss: 0.291877806186676 - Accuracy: 0.750799834728241\n",
      "Epoch 32, CIFAR-10 Batch 5:  Loss: 0.27920007705688477 - Accuracy: 0.7487998008728027\n",
      "Epoch 33, CIFAR-10 Batch 1:  Loss: 0.40713828802108765 - Accuracy: 0.7265998125076294\n",
      "Epoch 33, CIFAR-10 Batch 2:  Loss: 0.3566156029701233 - Accuracy: 0.7423998117446899\n",
      "Epoch 33, CIFAR-10 Batch 3:  Loss: 0.2420586794614792 - Accuracy: 0.7453997731208801\n",
      "Epoch 33, CIFAR-10 Batch 4:  Loss: 0.27758342027664185 - Accuracy: 0.7463998198509216\n",
      "Epoch 33, CIFAR-10 Batch 5:  Loss: 0.2534169852733612 - Accuracy: 0.7527998685836792\n",
      "Epoch 34, CIFAR-10 Batch 1:  Loss: 0.35951095819473267 - Accuracy: 0.7421998977661133\n",
      "Epoch 34, CIFAR-10 Batch 2:  Loss: 0.3575614392757416 - Accuracy: 0.7405998110771179\n",
      "Epoch 34, CIFAR-10 Batch 3:  Loss: 0.27937665581703186 - Accuracy: 0.7321998476982117\n",
      "Epoch 34, CIFAR-10 Batch 4:  Loss: 0.2654592990875244 - Accuracy: 0.7389998435974121\n",
      "Epoch 34, CIFAR-10 Batch 5:  Loss: 0.23009581863880157 - Accuracy: 0.7473998069763184\n",
      "Epoch 35, CIFAR-10 Batch 1:  Loss: 0.382345587015152 - Accuracy: 0.734799861907959\n",
      "Epoch 35, CIFAR-10 Batch 2:  Loss: 0.3402993679046631 - Accuracy: 0.732999861240387\n",
      "Epoch 35, CIFAR-10 Batch 3:  Loss: 0.26858657598495483 - Accuracy: 0.7369998693466187\n",
      "Epoch 35, CIFAR-10 Batch 4:  Loss: 0.25202441215515137 - Accuracy: 0.7421998977661133\n",
      "Epoch 35, CIFAR-10 Batch 5:  Loss: 0.2497839629650116 - Accuracy: 0.7433997988700867\n",
      "Epoch 36, CIFAR-10 Batch 1:  Loss: 0.3306320905685425 - Accuracy: 0.7303998470306396\n",
      "Epoch 36, CIFAR-10 Batch 2:  Loss: 0.3290688991546631 - Accuracy: 0.7503998279571533\n",
      "Epoch 36, CIFAR-10 Batch 3:  Loss: 0.24001260101795197 - Accuracy: 0.7425998449325562\n",
      "Epoch 36, CIFAR-10 Batch 4:  Loss: 0.22246326506137848 - Accuracy: 0.7451998591423035\n",
      "Epoch 36, CIFAR-10 Batch 5:  Loss: 0.22682727873325348 - Accuracy: 0.7379997968673706\n",
      "Epoch 37, CIFAR-10 Batch 1:  Loss: 0.3553798198699951 - Accuracy: 0.7409998774528503\n",
      "Epoch 37, CIFAR-10 Batch 2:  Loss: 0.31209155917167664 - Accuracy: 0.7413998246192932\n",
      "Epoch 37, CIFAR-10 Batch 3:  Loss: 0.24352355301380157 - Accuracy: 0.7421998381614685\n",
      "Epoch 37, CIFAR-10 Batch 4:  Loss: 0.23166638612747192 - Accuracy: 0.7413998246192932\n",
      "Epoch 37, CIFAR-10 Batch 5:  Loss: 0.2371504008769989 - Accuracy: 0.7473998069763184\n",
      "Epoch 38, CIFAR-10 Batch 1:  Loss: 0.3425633907318115 - Accuracy: 0.7417998909950256\n",
      "Epoch 38, CIFAR-10 Batch 2:  Loss: 0.27059024572372437 - Accuracy: 0.733599841594696\n",
      "Epoch 38, CIFAR-10 Batch 3:  Loss: 0.21688750386238098 - Accuracy: 0.7411998510360718\n",
      "Epoch 38, CIFAR-10 Batch 4:  Loss: 0.25764772295951843 - Accuracy: 0.7445998191833496\n",
      "Epoch 38, CIFAR-10 Batch 5:  Loss: 0.20469826459884644 - Accuracy: 0.7541998028755188\n",
      "Epoch 39, CIFAR-10 Batch 1:  Loss: 0.3290935456752777 - Accuracy: 0.745999813079834\n",
      "Epoch 39, CIFAR-10 Batch 2:  Loss: 0.31892192363739014 - Accuracy: 0.756199836730957\n",
      "Epoch 39, CIFAR-10 Batch 3:  Loss: 0.2188505232334137 - Accuracy: 0.7437998056411743\n"
     ]
    },
    {
     "name": "stdout",
     "output_type": "stream",
     "text": [
      "Epoch 39, CIFAR-10 Batch 4:  Loss: 0.22209328413009644 - Accuracy: 0.747799813747406\n",
      "Epoch 39, CIFAR-10 Batch 5:  Loss: 0.2363698035478592 - Accuracy: 0.7461998462677002\n",
      "Epoch 40, CIFAR-10 Batch 1:  Loss: 0.33268576860427856 - Accuracy: 0.7503998875617981\n",
      "Epoch 40, CIFAR-10 Batch 2:  Loss: 0.29753148555755615 - Accuracy: 0.740199863910675\n",
      "Epoch 40, CIFAR-10 Batch 3:  Loss: 0.18416738510131836 - Accuracy: 0.7449998259544373\n",
      "Epoch 40, CIFAR-10 Batch 4:  Loss: 0.24560430645942688 - Accuracy: 0.7455998063087463\n",
      "Epoch 40, CIFAR-10 Batch 5:  Loss: 0.19619160890579224 - Accuracy: 0.7463998794555664\n",
      "Epoch 41, CIFAR-10 Batch 1:  Loss: 0.3212969899177551 - Accuracy: 0.7327998280525208\n",
      "Epoch 41, CIFAR-10 Batch 2:  Loss: 0.2630719840526581 - Accuracy: 0.7351998090744019\n",
      "Epoch 41, CIFAR-10 Batch 3:  Loss: 0.20514237880706787 - Accuracy: 0.7343997955322266\n",
      "Epoch 41, CIFAR-10 Batch 4:  Loss: 0.23023565113544464 - Accuracy: 0.7483998537063599\n",
      "Epoch 41, CIFAR-10 Batch 5:  Loss: 0.19900813698768616 - Accuracy: 0.7517998218536377\n",
      "Epoch 42, CIFAR-10 Batch 1:  Loss: 0.3232131600379944 - Accuracy: 0.7529997825622559\n",
      "Epoch 42, CIFAR-10 Batch 2:  Loss: 0.25400274991989136 - Accuracy: 0.7587998509407043\n",
      "Epoch 42, CIFAR-10 Batch 3:  Loss: 0.18785664439201355 - Accuracy: 0.7431998252868652\n",
      "Epoch 42, CIFAR-10 Batch 4:  Loss: 0.21219706535339355 - Accuracy: 0.749599814414978\n",
      "Epoch 42, CIFAR-10 Batch 5:  Loss: 0.21115894615650177 - Accuracy: 0.7519997954368591\n",
      "Epoch 43, CIFAR-10 Batch 1:  Loss: 0.2982763946056366 - Accuracy: 0.7551998496055603\n",
      "Epoch 43, CIFAR-10 Batch 2:  Loss: 0.24345697462558746 - Accuracy: 0.7497998476028442\n",
      "Epoch 43, CIFAR-10 Batch 3:  Loss: 0.19193381071090698 - Accuracy: 0.7567998170852661\n",
      "Epoch 43, CIFAR-10 Batch 4:  Loss: 0.17985722422599792 - Accuracy: 0.762799859046936\n",
      "Epoch 43, CIFAR-10 Batch 5:  Loss: 0.158308207988739 - Accuracy: 0.7543998956680298\n",
      "Epoch 44, CIFAR-10 Batch 1:  Loss: 0.2805274724960327 - Accuracy: 0.7581998705863953\n",
      "Epoch 44, CIFAR-10 Batch 2:  Loss: 0.29163816571235657 - Accuracy: 0.754399836063385\n",
      "Epoch 44, CIFAR-10 Batch 3:  Loss: 0.19095849990844727 - Accuracy: 0.7459998726844788\n",
      "Epoch 44, CIFAR-10 Batch 4:  Loss: 0.1883563995361328 - Accuracy: 0.7535998225212097\n",
      "Epoch 44, CIFAR-10 Batch 5:  Loss: 0.17103734612464905 - Accuracy: 0.7515998482704163\n",
      "Epoch 45, CIFAR-10 Batch 1:  Loss: 0.29620686173439026 - Accuracy: 0.7551997900009155\n",
      "Epoch 45, CIFAR-10 Batch 2:  Loss: 0.23217666149139404 - Accuracy: 0.7599998712539673\n",
      "Epoch 45, CIFAR-10 Batch 3:  Loss: 0.16775257885456085 - Accuracy: 0.752599835395813\n",
      "Epoch 45, CIFAR-10 Batch 4:  Loss: 0.17015330493450165 - Accuracy: 0.7381998300552368\n",
      "Epoch 45, CIFAR-10 Batch 5:  Loss: 0.18861854076385498 - Accuracy: 0.7401998043060303\n",
      "Epoch 46, CIFAR-10 Batch 1:  Loss: 0.2686976492404938 - Accuracy: 0.7549998164176941\n",
      "Epoch 46, CIFAR-10 Batch 2:  Loss: 0.2278587371110916 - Accuracy: 0.7323998212814331\n",
      "Epoch 46, CIFAR-10 Batch 3:  Loss: 0.19233521819114685 - Accuracy: 0.7231998443603516\n",
      "Epoch 46, CIFAR-10 Batch 4:  Loss: 0.19412446022033691 - Accuracy: 0.7481998801231384\n",
      "Epoch 46, CIFAR-10 Batch 5:  Loss: 0.16180889308452606 - Accuracy: 0.7509998679161072\n",
      "Epoch 47, CIFAR-10 Batch 1:  Loss: 0.25060051679611206 - Accuracy: 0.75139981508255\n",
      "Epoch 47, CIFAR-10 Batch 2:  Loss: 0.2494867593050003 - Accuracy: 0.7597998380661011\n",
      "Epoch 47, CIFAR-10 Batch 3:  Loss: 0.17121320962905884 - Accuracy: 0.75139981508255\n",
      "Epoch 47, CIFAR-10 Batch 4:  Loss: 0.18434639275074005 - Accuracy: 0.7553998827934265\n",
      "Epoch 47, CIFAR-10 Batch 5:  Loss: 0.13701073825359344 - Accuracy: 0.7557998299598694\n",
      "Epoch 48, CIFAR-10 Batch 1:  Loss: 0.29509133100509644 - Accuracy: 0.7585997581481934\n",
      "Epoch 48, CIFAR-10 Batch 2:  Loss: 0.24789488315582275 - Accuracy: 0.7595998048782349\n",
      "Epoch 48, CIFAR-10 Batch 3:  Loss: 0.17007410526275635 - Accuracy: 0.7535998821258545\n",
      "Epoch 48, CIFAR-10 Batch 4:  Loss: 0.1765003651380539 - Accuracy: 0.7603998184204102\n",
      "Epoch 48, CIFAR-10 Batch 5:  Loss: 0.1465478539466858 - Accuracy: 0.758999764919281\n",
      "Epoch 49, CIFAR-10 Batch 1:  Loss: 0.2408401221036911 - Accuracy: 0.7597998380661011\n",
      "Epoch 49, CIFAR-10 Batch 2:  Loss: 0.24257194995880127 - Accuracy: 0.7531998157501221\n",
      "Epoch 49, CIFAR-10 Batch 3:  Loss: 0.15886196494102478 - Accuracy: 0.7605998516082764\n",
      "Epoch 49, CIFAR-10 Batch 4:  Loss: 0.19397300481796265 - Accuracy: 0.7577998638153076\n",
      "Epoch 49, CIFAR-10 Batch 5:  Loss: 0.1534269154071808 - Accuracy: 0.7563998699188232\n",
      "Epoch 50, CIFAR-10 Batch 1:  Loss: 0.24612481892108917 - Accuracy: 0.757999837398529\n",
      "Epoch 50, CIFAR-10 Batch 2:  Loss: 0.24002471566200256 - Accuracy: 0.7551998496055603\n",
      "Epoch 50, CIFAR-10 Batch 3:  Loss: 0.1653788536787033 - Accuracy: 0.7575998306274414\n",
      "Epoch 50, CIFAR-10 Batch 4:  Loss: 0.16169661283493042 - Accuracy: 0.7585998773574829\n",
      "Epoch 50, CIFAR-10 Batch 5:  Loss: 0.1211353987455368 - Accuracy: 0.7491998672485352\n"
     ]
    }
   ],
   "source": [
    "\"\"\"\n",
    "DON'T MODIFY ANYTHING IN THIS CELL\n",
    "\"\"\"\n",
    "save_model_path = './image_classification'\n",
    "\n",
    "print('Training...')\n",
    "with tf.Session() as sess:\n",
    "    # Initializing the variables\n",
    "    sess.run(tf.global_variables_initializer())\n",
    "    \n",
    "    # Training cycle\n",
    "    for epoch in range(epochs):\n",
    "        # Loop over all batches\n",
    "        n_batches = 5\n",
    "        for batch_i in range(1, n_batches + 1):\n",
    "            for batch_features, batch_labels in helper.load_preprocess_training_batch(batch_i, batch_size):\n",
    "                train_neural_network(sess, optimizer, keep_probability, batch_features, batch_labels)\n",
    "            print('Epoch {:>2}, CIFAR-10 Batch {}:  '.format(epoch + 1, batch_i), end='')\n",
    "            print_stats(sess, batch_features, batch_labels, cost, accuracy)\n",
    "            \n",
    "    # Save Model\n",
    "    saver = tf.train.Saver()\n",
    "    save_path = saver.save(sess, save_model_path)"
   ]
  },
  {
   "cell_type": "markdown",
   "metadata": {},
   "source": [
    "# Checkpoint\n",
    "The model has been saved to disk.\n",
    "## Test Model\n",
    "Test your model against the test dataset.  This will be your final accuracy. You should have an accuracy greater than 50%. If you don't, keep tweaking the model architecture and parameters."
   ]
  },
  {
   "cell_type": "code",
   "execution_count": 287,
   "metadata": {},
   "outputs": [
    {
     "name": "stdout",
     "output_type": "stream",
     "text": [
      "INFO:tensorflow:Restoring parameters from ./image_classification\n",
      "Testing Accuracy: 0.7384765625\n",
      "\n"
     ]
    },
    {
     "data": {
      "image/png": "[encoded data removed]",
      "text/plain": [
       "<matplotlib.figure.Figure at 0x7f8e1c144128>"
      ]
     },
     "metadata": {
      "image/png": {
       "height": 319,
       "width": 355
      }
     },
     "output_type": "display_data"
    }
   ],
   "source": [
    "\"\"\"\n",
    "DON'T MODIFY ANYTHING IN THIS CELL\n",
    "\"\"\"\n",
    "%matplotlib inline\n",
    "%config InlineBackend.figure_format = 'retina'\n",
    "\n",
    "import tensorflow as tf\n",
    "import pickle\n",
    "import helper\n",
    "import random\n",
    "\n",
    "# Set batch size if not already set\n",
    "try:\n",
    "    if batch_size:\n",
    "        pass\n",
    "except NameError:\n",
    "    batch_size = 64\n",
    "\n",
    "save_model_path = './image_classification'\n",
    "n_samples = 4\n",
    "top_n_predictions = 3\n",
    "\n",
    "def test_model():\n",
    "    \"\"\"\n",
    "    Test the saved model against the test dataset\n",
    "    \"\"\"\n",
    "\n",
    "    test_features, test_labels = pickle.load(open('preprocess_test.p', mode='rb'))\n",
    "    loaded_graph = tf.Graph()\n",
    "\n",
    "    with tf.Session(graph=loaded_graph) as sess:\n",
    "        # Load model\n",
    "        loader = tf.train.import_meta_graph(save_model_path + '.meta')\n",
    "        loader.restore(sess, save_model_path)\n",
    "\n",
    "        # Get Tensors from loaded model\n",
    "        loaded_x = loaded_graph.get_tensor_by_name('x:0')\n",
    "        loaded_y = loaded_graph.get_tensor_by_name('y:0')\n",
    "        loaded_keep_prob = loaded_graph.get_tensor_by_name('keep_prob:0')\n",
    "        loaded_logits = loaded_graph.get_tensor_by_name('logits:0')\n",
    "        loaded_acc = loaded_graph.get_tensor_by_name('accuracy:0')\n",
    "        \n",
    "        # Get accuracy in batches for memory limitations\n",
    "        test_batch_acc_total = 0\n",
    "        test_batch_count = 0\n",
    "        \n",
    "        for test_feature_batch, test_label_batch in helper.batch_features_labels(test_features, test_labels, batch_size):\n",
    "            test_batch_acc_total += sess.run(\n",
    "                loaded_acc,\n",
    "                feed_dict={loaded_x: test_feature_batch, loaded_y: test_label_batch, loaded_keep_prob: 1.0})\n",
    "            test_batch_count += 1\n",
    "\n",
    "        print('Testing Accuracy: {}\\n'.format(test_batch_acc_total/test_batch_count))\n",
    "\n",
    "        # Print Random Samples\n",
    "        random_test_features, random_test_labels = tuple(zip(*random.sample(list(zip(test_features, test_labels)), n_samples)))\n",
    "        random_test_predictions = sess.run(\n",
    "            tf.nn.top_k(tf.nn.softmax(loaded_logits), top_n_predictions),\n",
    "            feed_dict={loaded_x: random_test_features, loaded_y: random_test_labels, loaded_keep_prob: 1.0})\n",
    "        helper.display_image_predictions(random_test_features, random_test_labels, random_test_predictions)\n",
    "\n",
    "\n",
    "test_model()"
   ]
  },
  {
   "cell_type": "markdown",
   "metadata": {},
   "source": [
    "## Why 50-80% Accuracy?\n",
    "You might be wondering why you can't get an accuracy any higher. First things first, 50% isn't bad for a simple CNN.  Pure guessing would get you 10% accuracy. However, you might notice people are getting scores [well above 80%](http://rodrigob.github.io/are_we_there_yet/build/classification_datasets_results.html#43494641522d3130).  That's because we haven't taught you all there is to know about neural networks. We still need to cover a few more techniques.\n",
    "## Submitting This Project\n",
    "When submitting this project, make sure to run all the cells before saving the notebook.  Save the notebook file as \"dlnd_image_classification.ipynb\" and save it as a HTML file under \"File\" -> \"Download as\".  Include the \"helper.py\" and \"problem_unittests.py\" files in your submission."
   ]
  }
 ],
 "metadata": {
  "kernelspec": {
   "display_name": "Python 3",
   "language": "python",
   "name": "python3"
  },
  "language_info": {
   "codemirror_mode": {
    "name": "ipython",
    "version": 3
   },
   "file_extension": ".py",
   "mimetype": "text/x-python",
   "name": "python",
   "nbconvert_exporter": "python",
   "pygments_lexer": "ipython3",
   "version": "3.5.3"
  }
 },
 "nbformat": 4,
 "nbformat_minor": 1
}
